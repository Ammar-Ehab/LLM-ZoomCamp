{
 "cells": [
  {
   "cell_type": "code",
   "execution_count": null,
   "id": "828eb41a-71a0-4454-ac0c-02d787286056",
   "metadata": {},
   "outputs": [],
   "source": []
  },
  {
   "cell_type": "code",
   "execution_count": 1,
   "id": "b79e1efe-6e8a-4519-b398-1e79fa0a93be",
   "metadata": {},
   "outputs": [],
   "source": [
    "import minsearch"
   ]
  },
  {
   "cell_type": "code",
   "execution_count": 2,
   "id": "865b35d2-119d-4d1d-a086-fc4496bea62e",
   "metadata": {},
   "outputs": [],
   "source": [
    "import json"
   ]
  },
  {
   "cell_type": "code",
   "execution_count": 3,
   "id": "d7659b50-8202-45df-93b0-c97877c8dd29",
   "metadata": {},
   "outputs": [],
   "source": [
    "with open('documents.json','rt' ) as f_in :\n",
    "    docs_raw = json.load(f_in)"
   ]
  },
  {
   "cell_type": "code",
   "execution_count": 4,
   "id": "6930a499-fd53-4d70-9693-fd432134587f",
   "metadata": {},
   "outputs": [],
   "source": [
    "documents = []\n",
    "\n",
    "for course_dict in docs_raw :\n",
    "    for doc in course_dict['documents']:\n",
    "        doc['course'] = course_dict['course']\n",
    "        documents.append(doc)"
   ]
  },
  {
   "cell_type": "code",
   "execution_count": 5,
   "id": "b6e68f95-f596-48cc-9eee-3c5b99a700b7",
   "metadata": {},
   "outputs": [
    {
     "data": {
      "text/plain": [
       "{'text': \"The purpose of this document is to capture frequently asked technical questions\\nThe exact day and hour of the course will be 15th Jan 2024 at 17h00. The course will start with the first  “Office Hours'' live.1\\nSubscribe to course public Google Calendar (it works from Desktop only).\\nRegister before the course starts using this link.\\nJoin the course Telegram channel with announcements.\\nDon’t forget to register in DataTalks.Club's Slack and join the channel.\",\n",
       " 'section': 'General course-related questions',\n",
       " 'question': 'Course - When will the course start?',\n",
       " 'course': 'data-engineering-zoomcamp'}"
      ]
     },
     "execution_count": 5,
     "metadata": {},
     "output_type": "execute_result"
    }
   ],
   "source": [
    "documents[0]"
   ]
  },
  {
   "cell_type": "code",
   "execution_count": 6,
   "id": "514a80ec-5944-45f9-91ff-1fd7c4806b0b",
   "metadata": {},
   "outputs": [],
   "source": [
    "index = minsearch.Index(\n",
    "    text_fields=[\"question\", \"text\", \"section\"],\n",
    "    keyword_fields=[\"course\"]\n",
    ")"
   ]
  },
  {
   "cell_type": "code",
   "execution_count": 8,
   "id": "adfd22d4-ffd4-4a85-887a-e27784a74969",
   "metadata": {},
   "outputs": [
    {
     "data": {
      "text/plain": [
       "<minsearch.Index at 0x7ddc5c442290>"
      ]
     },
     "execution_count": 8,
     "metadata": {},
     "output_type": "execute_result"
    }
   ],
   "source": [
    "index.fit(documents)"
   ]
  },
  {
   "cell_type": "code",
   "execution_count": 11,
   "id": "026a196b-1be7-4ab2-904e-4a4dcea5e42b",
   "metadata": {},
   "outputs": [
    {
     "name": "stdout",
     "output_type": "stream",
     "text": [
      "Requirement already satisfied: mistralai in /usr/local/python/3.10.13/lib/python3.10/site-packages (0.4.2)\n",
      "Requirement already satisfied: httpx<1,>=0.25 in /home/codespace/.local/lib/python3.10/site-packages (from mistralai) (0.27.0)\n",
      "Requirement already satisfied: orjson<3.11,>=3.9.10 in /usr/local/python/3.10.13/lib/python3.10/site-packages (from mistralai) (3.10.6)\n",
      "Requirement already satisfied: pydantic<3,>=2.5.2 in /usr/local/python/3.10.13/lib/python3.10/site-packages (from mistralai) (2.8.2)\n",
      "Requirement already satisfied: anyio in /home/codespace/.local/lib/python3.10/site-packages (from httpx<1,>=0.25->mistralai) (4.4.0)\n",
      "Requirement already satisfied: certifi in /home/codespace/.local/lib/python3.10/site-packages (from httpx<1,>=0.25->mistralai) (2024.7.4)\n",
      "Requirement already satisfied: httpcore==1.* in /home/codespace/.local/lib/python3.10/site-packages (from httpx<1,>=0.25->mistralai) (1.0.5)\n",
      "Requirement already satisfied: idna in /home/codespace/.local/lib/python3.10/site-packages (from httpx<1,>=0.25->mistralai) (3.7)\n",
      "Requirement already satisfied: sniffio in /home/codespace/.local/lib/python3.10/site-packages (from httpx<1,>=0.25->mistralai) (1.3.1)\n",
      "Requirement already satisfied: h11<0.15,>=0.13 in /home/codespace/.local/lib/python3.10/site-packages (from httpcore==1.*->httpx<1,>=0.25->mistralai) (0.14.0)\n",
      "Requirement already satisfied: annotated-types>=0.4.0 in /usr/local/python/3.10.13/lib/python3.10/site-packages (from pydantic<3,>=2.5.2->mistralai) (0.7.0)\n",
      "Requirement already satisfied: pydantic-core==2.20.1 in /usr/local/python/3.10.13/lib/python3.10/site-packages (from pydantic<3,>=2.5.2->mistralai) (2.20.1)\n",
      "Requirement already satisfied: typing-extensions>=4.6.1 in /home/codespace/.local/lib/python3.10/site-packages (from pydantic<3,>=2.5.2->mistralai) (4.12.2)\n",
      "Requirement already satisfied: exceptiongroup>=1.0.2 in /home/codespace/.local/lib/python3.10/site-packages (from anyio->httpx<1,>=0.25->mistralai) (1.2.1)\n"
     ]
    }
   ],
   "source": [
    "!pip install mistralai"
   ]
  },
  {
   "cell_type": "code",
   "execution_count": 12,
   "id": "ad594b67-c287-4ff7-901e-76b377e0f57a",
   "metadata": {},
   "outputs": [],
   "source": [
    "from mistralai.client import MistralClient\n",
    "from mistralai.models.chat_completion import ChatMessage"
   ]
  },
  {
   "cell_type": "code",
   "execution_count": 13,
   "id": "af93c555-ee15-4855-b819-83ab2c2f5304",
   "metadata": {},
   "outputs": [
    {
     "name": "stdout",
     "output_type": "stream",
     "text": [
      "Whether or not you can still enroll in a course that has already started depends on the policies of the institution or platform offering the course. Here are a few possibilities:\n",
      "\n",
      "1. **Open Enrollment**: Some courses, especially online ones, have open enrollment, which means you can join at any time.\n",
      "\n",
      "2. **Late Enrollment Period**: Some institutions have a late enrollment period, usually within the first week or two of the course starting. After this period, you might not be able to enroll.\n",
      "\n",
      "3. **Instructor Permission**: In certain cases, you might be able to enroll late with the instructor's permission.\n",
      "\n",
      "4. **Wait for the Next Offering**: If the course has strict deadlines for enrollment, you might have to wait for the next offering of the course.\n",
      "\n",
      "It's best to contact the institution or the course instructor directly to ask about their specific policies regarding late enrollment.\n"
     ]
    }
   ],
   "source": [
    "import os\n",
    "\n",
    "# Access the API key from the environment variable\n",
    "api_key = os.environ['MISTRAL_AI_API_KEY']\n",
    "model = \"mistral-large-latest\"\n",
    "\n",
    "client = MistralClient(api_key=api_key)\n",
    "\n",
    "chat_response = client.chat(\n",
    "    model=model,\n",
    "    messages=[ChatMessage(role=\"user\", content=q)]\n",
    ")\n",
    "\n",
    "print(chat_response.choices[0].message.content)"
   ]
  },
  {
   "cell_type": "code",
   "execution_count": 19,
   "id": "37e48bc2-4728-4b22-9869-4425f081a3d5",
   "metadata": {},
   "outputs": [],
   "source": [
    "def search (query):\n",
    "    boost = {'question': 3.0, 'section' : 0.5}\n",
    "\n",
    "    results = index.search(\n",
    "    query=query,\n",
    "    filter_dict={'course':'data-engineering-zoomcamp'},\n",
    "    boost_dict=boost,\n",
    "    num_results=10\n",
    "    )\n",
    "\n",
    "    return results"
   ]
  },
  {
   "cell_type": "code",
   "execution_count": 43,
   "id": "d57b744a-69f1-40f4-8bc3-798a70b8eda9",
   "metadata": {},
   "outputs": [],
   "source": [
    "def build_prompt (query, search_results) :\n",
    "    prompt_template = \"\"\"\n",
    "You're a course teaching assistant. Answer the QUESTION based on the CONTEXT from the FAQ database. \n",
    "Use only the facts from the CONTEXT when answering the QUESTION.\n",
    "\n",
    "QUESTION: {question}\n",
    "\n",
    "CONTEXT: {context}\n",
    "\n",
    "\"\"\".strip()\n",
    "\n",
    "    context = \"\"\n",
    "    \n",
    "    for doc in results:\n",
    "        context = context + f\"section: {doc['section']}\\nquestion: {doc['question']}\\nanswer: {doc['text']}\\n\\n\"\n",
    "    \n",
    "    prompt = prompt_template.format(question=query, context=context).strip()\n",
    "    return prompt"
   ]
  },
  {
   "cell_type": "code",
   "execution_count": 44,
   "id": "caed0742-deb0-4da6-9e98-3237d1288b4c",
   "metadata": {},
   "outputs": [],
   "source": [
    "def llm(prompt):\n",
    "    chat_response = client.chat(\n",
    "    model=model,\n",
    "    messages=[ChatMessage(role=\"user\", content=prompt)]\n",
    "    )\n",
    "\n",
    "    return chat_response.choices[0].message.content"
   ]
  },
  {
   "cell_type": "code",
   "execution_count": 50,
   "id": "097fb057-6e92-4650-a68b-1315246e0390",
   "metadata": {},
   "outputs": [],
   "source": [
    "query = 'How do I run kafka?'\n",
    "\n",
    "def rag(query):\n",
    "        results = search(query)\n",
    "        prompt = build_prompt (query, results)\n",
    "        answer = llm(prompt)\n",
    "        return answer"
   ]
  },
  {
   "cell_type": "code",
   "execution_count": 51,
   "id": "090819df-27ce-4b52-9068-2d54c508ac1e",
   "metadata": {},
   "outputs": [
    {
     "data": {
      "text/plain": [
       "'To run Kafka, you can follow these instructions based on the context provided:\\n\\nFor Java Kafka:\\n- Navigate to the project directory.\\n- Run the following command in the terminal:\\n  ```\\n  java -cp build/libs/<jar_name>-1.0-SNAPSHOT.jar:out src/main/java/org/example/JsonProducer.java\\n  ```\\n\\nFor Python Kafka:\\n- Create a virtual environment and install the required packages.\\n- Run the following commands in the terminal:\\n  ```\\n  python -m venv env\\n  source env/bin/activate  # For Windows, use env\\\\Scripts\\\\activate\\n  pip install -r ../requirements.txt\\n  ```\\n- Ensure that the Docker images are up and running before executing the Python files.\\n- To run the producer, activate the virtual environment and then run the producer.py script.'"
      ]
     },
     "execution_count": 51,
     "metadata": {},
     "output_type": "execute_result"
    }
   ],
   "source": [
    "rag (query)"
   ]
  }
 ],
 "metadata": {
  "kernelspec": {
   "display_name": "Python 3 (ipykernel)",
   "language": "python",
   "name": "python3"
  },
  "language_info": {
   "codemirror_mode": {
    "name": "ipython",
    "version": 3
   },
   "file_extension": ".py",
   "mimetype": "text/x-python",
   "name": "python",
   "nbconvert_exporter": "python",
   "pygments_lexer": "ipython3",
   "version": "3.10.13"
  }
 },
 "nbformat": 4,
 "nbformat_minor": 5
}
