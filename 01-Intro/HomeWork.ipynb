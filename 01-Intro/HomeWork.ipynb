{
 "cells": [
  {
   "cell_type": "code",
   "execution_count": 1,
   "id": "3539fc6d-e306-4b69-8e4d-fe85e4f30b88",
   "metadata": {},
   "outputs": [
    {
     "name": "stdout",
     "output_type": "stream",
     "text": [
      "Requirement already satisfied: mistralai in /usr/local/python/3.10.13/lib/python3.10/site-packages (0.4.2)\n",
      "Requirement already satisfied: httpx<1,>=0.25 in /home/codespace/.local/lib/python3.10/site-packages (from mistralai) (0.27.0)\n",
      "Requirement already satisfied: orjson<3.11,>=3.9.10 in /usr/local/python/3.10.13/lib/python3.10/site-packages (from mistralai) (3.10.6)\n",
      "Requirement already satisfied: pydantic<3,>=2.5.2 in /usr/local/python/3.10.13/lib/python3.10/site-packages (from mistralai) (2.8.2)\n",
      "Requirement already satisfied: anyio in /home/codespace/.local/lib/python3.10/site-packages (from httpx<1,>=0.25->mistralai) (4.4.0)\n",
      "Requirement already satisfied: certifi in /home/codespace/.local/lib/python3.10/site-packages (from httpx<1,>=0.25->mistralai) (2024.7.4)\n",
      "Requirement already satisfied: httpcore==1.* in /home/codespace/.local/lib/python3.10/site-packages (from httpx<1,>=0.25->mistralai) (1.0.5)\n",
      "Requirement already satisfied: idna in /home/codespace/.local/lib/python3.10/site-packages (from httpx<1,>=0.25->mistralai) (3.7)\n",
      "Requirement already satisfied: sniffio in /home/codespace/.local/lib/python3.10/site-packages (from httpx<1,>=0.25->mistralai) (1.3.1)\n",
      "Requirement already satisfied: h11<0.15,>=0.13 in /home/codespace/.local/lib/python3.10/site-packages (from httpcore==1.*->httpx<1,>=0.25->mistralai) (0.14.0)\n",
      "Requirement already satisfied: annotated-types>=0.4.0 in /usr/local/python/3.10.13/lib/python3.10/site-packages (from pydantic<3,>=2.5.2->mistralai) (0.7.0)\n",
      "Requirement already satisfied: pydantic-core==2.20.1 in /usr/local/python/3.10.13/lib/python3.10/site-packages (from pydantic<3,>=2.5.2->mistralai) (2.20.1)\n",
      "Requirement already satisfied: typing-extensions>=4.6.1 in /home/codespace/.local/lib/python3.10/site-packages (from pydantic<3,>=2.5.2->mistralai) (4.12.2)\n",
      "Requirement already satisfied: exceptiongroup>=1.0.2 in /home/codespace/.local/lib/python3.10/site-packages (from anyio->httpx<1,>=0.25->mistralai) (1.2.1)\n"
     ]
    }
   ],
   "source": [
    "!pip install mistralai"
   ]
  },
  {
   "cell_type": "code",
   "execution_count": 2,
   "id": "1182c158-305f-4b19-8256-f8bf60f7a98c",
   "metadata": {},
   "outputs": [],
   "source": [
    "from mistralai.client import MistralClient\n",
    "from mistralai.models.chat_completion import ChatMessage"
   ]
  },
  {
   "cell_type": "code",
   "execution_count": 3,
   "id": "c5f934c0-ae74-4b33-8931-836290e1822c",
   "metadata": {},
   "outputs": [
    {
     "name": "stdout",
     "output_type": "stream",
     "text": [
      "I don't have real-time information or the ability to browse the internet, so I can't tell you if it's too late to join a specific course. However, I can give you some general advice:\n",
      "\n",
      "1. **Check the Official Course Page**: Look for information about enrollment deadlines, late registration policies, or waiting lists.\n",
      "\n",
      "2. **Contact the Instructor or Administrator**: If you can't find the information online, reach out to the course instructor or the institution's admissions/registration office. They can provide you with the most accurate information.\n",
      "\n",
      "3. **Consider Late Registration**: Some institutions allow late registration, often with a fee. Be sure to ask about this possibility if you've missed the standard deadline.\n",
      "\n",
      "4. **Look for Similar or Future Courses**: If it's indeed too late, consider looking for similar courses or wait for the next offering of the same course.\n",
      "\n",
      "5. **Online Learning Platforms**: If the course is offered online, sometimes these platforms allow you to start at any time or join the next cohort.\n"
     ]
    }
   ],
   "source": [
    "import os\n",
    "\n",
    "# Access the API key from the environment variable\n",
    "api_key = os.environ['MISTRAL_AI_API_KEY']\n",
    "model = \"mistral-large-latest\"\n",
    "\n",
    "client = MistralClient(api_key=api_key)\n",
    "\n",
    "chat_response = client.chat(\n",
    "    model=model,\n",
    "    messages=[ChatMessage(role=\"user\", content=\"is it too late to join the course?\")]\n",
    ")\n",
    "\n",
    "print(chat_response.choices[0].message.content)\n",
    "\n",
    "\n",
    "\n",
    "\n",
    "\n",
    "##client = OpenAI(api_key=' ')\n",
    "##l06zalmBBaUcui2puugfK5x3Es0TfLEk"
   ]
  },
  {
   "cell_type": "code",
   "execution_count": 4,
   "id": "4bf27532-e245-4625-9896-57fe114ea5a1",
   "metadata": {},
   "outputs": [
    {
     "ename": "AttributeError",
     "evalue": "'function' object has no attribute 'completions'",
     "output_type": "error",
     "traceback": [
      "\u001b[0;31m---------------------------------------------------------------------------\u001b[0m",
      "\u001b[0;31mAttributeError\u001b[0m                            Traceback (most recent call last)",
      "Cell \u001b[0;32mIn[4], line 1\u001b[0m\n\u001b[0;32m----> 1\u001b[0m \u001b[43mclient\u001b[49m\u001b[38;5;241;43m.\u001b[39;49m\u001b[43mchat\u001b[49m\u001b[38;5;241;43m.\u001b[39;49m\u001b[43mcompletions\u001b[49m\u001b[38;5;241m.\u001b[39mcreate(\n\u001b[1;32m      2\u001b[0m     \n\u001b[1;32m      3\u001b[0m )\n",
      "\u001b[0;31mAttributeError\u001b[0m: 'function' object has no attribute 'completions'"
     ]
    }
   ],
   "source": [
    "client.chat.completions.create(\n",
    "    \n",
    ")"
   ]
  },
  {
   "cell_type": "code",
   "execution_count": null,
   "id": "2ac5acc3-57d3-4d9d-b9a8-45811704abbb",
   "metadata": {},
   "outputs": [],
   "source": []
  }
 ],
 "metadata": {
  "kernelspec": {
   "display_name": "Python 3 (ipykernel)",
   "language": "python",
   "name": "python3"
  },
  "language_info": {
   "codemirror_mode": {
    "name": "ipython",
    "version": 3
   },
   "file_extension": ".py",
   "mimetype": "text/x-python",
   "name": "python",
   "nbconvert_exporter": "python",
   "pygments_lexer": "ipython3",
   "version": "3.10.13"
  }
 },
 "nbformat": 4,
 "nbformat_minor": 5
}
