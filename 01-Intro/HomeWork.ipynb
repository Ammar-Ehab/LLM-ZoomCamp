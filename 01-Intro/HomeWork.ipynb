{
 "cells": [
  {
   "cell_type": "code",
   "execution_count": 5,
   "id": "3539fc6d-e306-4b69-8e4d-fe85e4f30b88",
   "metadata": {},
   "outputs": [
    {
     "name": "stdout",
     "output_type": "stream",
     "text": [
      "Collecting mistralai\n",
      "  Downloading mistralai-0.4.2-py3-none-any.whl.metadata (1.9 kB)\n",
      "Requirement already satisfied: httpx<1,>=0.25 in /home/codespace/.local/lib/python3.10/site-packages (from mistralai) (0.27.0)\n",
      "Collecting orjson<3.11,>=3.9.10 (from mistralai)\n",
      "  Downloading orjson-3.10.6-cp310-cp310-manylinux_2_17_x86_64.manylinux2014_x86_64.whl.metadata (50 kB)\n",
      "\u001b[2K     \u001b[38;2;114;156;31m━━━━━━━━━━━━━━━━━━━━━━━━━━━━━━━━━━━━━━━━\u001b[0m \u001b[32m50.4/50.4 kB\u001b[0m \u001b[31m1.1 MB/s\u001b[0m eta \u001b[36m0:00:00\u001b[0m8 MB/s\u001b[0m eta \u001b[36m0:00:01\u001b[0m\n",
      "\u001b[?25hRequirement already satisfied: pydantic<3,>=2.5.2 in /usr/local/python/3.10.13/lib/python3.10/site-packages (from mistralai) (2.8.2)\n",
      "Requirement already satisfied: anyio in /home/codespace/.local/lib/python3.10/site-packages (from httpx<1,>=0.25->mistralai) (4.4.0)\n",
      "Requirement already satisfied: certifi in /home/codespace/.local/lib/python3.10/site-packages (from httpx<1,>=0.25->mistralai) (2024.7.4)\n",
      "Requirement already satisfied: httpcore==1.* in /home/codespace/.local/lib/python3.10/site-packages (from httpx<1,>=0.25->mistralai) (1.0.5)\n",
      "Requirement already satisfied: idna in /home/codespace/.local/lib/python3.10/site-packages (from httpx<1,>=0.25->mistralai) (3.7)\n",
      "Requirement already satisfied: sniffio in /home/codespace/.local/lib/python3.10/site-packages (from httpx<1,>=0.25->mistralai) (1.3.1)\n",
      "Requirement already satisfied: h11<0.15,>=0.13 in /home/codespace/.local/lib/python3.10/site-packages (from httpcore==1.*->httpx<1,>=0.25->mistralai) (0.14.0)\n",
      "Requirement already satisfied: annotated-types>=0.4.0 in /usr/local/python/3.10.13/lib/python3.10/site-packages (from pydantic<3,>=2.5.2->mistralai) (0.7.0)\n",
      "Requirement already satisfied: pydantic-core==2.20.1 in /usr/local/python/3.10.13/lib/python3.10/site-packages (from pydantic<3,>=2.5.2->mistralai) (2.20.1)\n",
      "Requirement already satisfied: typing-extensions>=4.6.1 in /home/codespace/.local/lib/python3.10/site-packages (from pydantic<3,>=2.5.2->mistralai) (4.12.2)\n",
      "Requirement already satisfied: exceptiongroup>=1.0.2 in /home/codespace/.local/lib/python3.10/site-packages (from anyio->httpx<1,>=0.25->mistralai) (1.2.1)\n",
      "Downloading mistralai-0.4.2-py3-none-any.whl (20 kB)\n",
      "Downloading orjson-3.10.6-cp310-cp310-manylinux_2_17_x86_64.manylinux2014_x86_64.whl (141 kB)\n",
      "\u001b[2K   \u001b[38;2;114;156;31m━━━━━━━━━━━━━━━━━━━━━━━━━━━━━━━━━━━━━━━━\u001b[0m \u001b[32m141.1/141.1 kB\u001b[0m \u001b[31m3.4 MB/s\u001b[0m eta \u001b[36m0:00:00\u001b[0m31m175.7 MB/s\u001b[0m eta \u001b[36m0:00:01\u001b[0m\n",
      "\u001b[?25hInstalling collected packages: orjson, mistralai\n",
      "Successfully installed mistralai-0.4.2 orjson-3.10.6\n"
     ]
    }
   ],
   "source": [
    "!pip install mistralai"
   ]
  },
  {
   "cell_type": "code",
   "execution_count": 6,
   "id": "1182c158-305f-4b19-8256-f8bf60f7a98c",
   "metadata": {},
   "outputs": [],
   "source": [
    "from mistralai.client import MistralClient\n",
    "from mistralai.models.chat_completion import ChatMessage"
   ]
  },
  {
   "cell_type": "code",
   "execution_count": 16,
   "id": "c5f934c0-ae74-4b33-8931-836290e1822c",
   "metadata": {},
   "outputs": [
    {
     "name": "stdout",
     "output_type": "stream",
     "text": [
      "To determine if it's too late to join a course, consider the following factors:\n",
      "\n",
      "1. **Course Deadlines**: Check if the registration or enrollment deadline has passed. This information is usually available on the course website or platform.\n",
      "\n",
      "2. **Course Progress**: If the course has already started, find out how much of the material has been covered. It might be challenging to catch up if you've missed a lot.\n",
      "\n",
      "3. **Instructor or Institution Policy**: Some instructors or institutions allow late registrations, while others do not. Check their policy or contact them to inquire.\n",
      "\n",
      "4. **Prerequisites**: Ensure you have completed any prerequisites for the course.\n",
      "\n",
      "5. **Your Schedule**: Make sure you have enough time to dedicate to the course, especially if you'll need to catch up.\n",
      "\n",
      "If you're still unsure, it's always a good idea to contact the course instructor or support team for advice tailored to your specific situation.\n"
     ]
    }
   ],
   "source": [
    "import os\n",
    "\n",
    "# Access the API key from the environment variable\n",
    "api_key = os.environ['MISTRAL_AI_API_KEY']\n",
    "model = \"mistral-large-latest\"\n",
    "\n",
    "client = MistralClient(api_key=api_key)\n",
    "\n",
    "chat_response = client.chat(\n",
    "    model=model,\n",
    "    messages=[ChatMessage(role=\"user\", content=\"is it too late to join the course?\")]\n",
    ")\n",
    "\n",
    "print(chat_response.choices[0].message.content)\n",
    "\n",
    "\n",
    "\n",
    "\n",
    "\n",
    "##client = OpenAI(api_key=' ')\n",
    "##J62Hepjggs7YteZUgBSQ89TMXZX3DJ0k"
   ]
  },
  {
   "cell_type": "code",
   "execution_count": null,
   "id": "4bf27532-e245-4625-9896-57fe114ea5a1",
   "metadata": {},
   "outputs": [],
   "source": [
    "client .chat.c"
   ]
  },
  {
   "cell_type": "code",
   "execution_count": null,
   "id": "2ac5acc3-57d3-4d9d-b9a8-45811704abbb",
   "metadata": {},
   "outputs": [],
   "source": []
  }
 ],
 "metadata": {
  "kernelspec": {
   "display_name": "Python 3 (ipykernel)",
   "language": "python",
   "name": "python3"
  },
  "language_info": {
   "codemirror_mode": {
    "name": "ipython",
    "version": 3
   },
   "file_extension": ".py",
   "mimetype": "text/x-python",
   "name": "python",
   "nbconvert_exporter": "python",
   "pygments_lexer": "ipython3",
   "version": "3.10.13"
  }
 },
 "nbformat": 4,
 "nbformat_minor": 5
}
